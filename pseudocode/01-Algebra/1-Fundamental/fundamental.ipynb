{
 "cells": [
  {
   "attachments": {},
   "cell_type": "markdown",
   "metadata": {},
   "source": [
    "### Fundamentals:\n",
    "1. Binary Exponentiation\n",
    "2. Euclidean algorithm for computing the greatest common divisor\n",
    "3. Extended Euclidean Algorithm\n",
    "4. Linear Diophantine Equations\n",
    "5. Fibonacci Numbers"
   ]
  },
  {
   "cell_type": "code",
   "execution_count": null,
   "metadata": {},
   "outputs": [],
   "source": []
  }
 ],
 "metadata": {
  "language_info": {
   "name": "python"
  },
  "orig_nbformat": 4
 },
 "nbformat": 4,
 "nbformat_minor": 2
}
